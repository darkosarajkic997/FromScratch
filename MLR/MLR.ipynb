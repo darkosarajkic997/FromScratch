{
 "metadata": {
  "language_info": {
   "codemirror_mode": {
    "name": "ipython",
    "version": 3
   },
   "file_extension": ".py",
   "mimetype": "text/x-python",
   "name": "python",
   "nbconvert_exporter": "python",
   "pygments_lexer": "ipython3",
   "version": "3.8.1-final"
  },
  "orig_nbformat": 2,
  "kernelspec": {
   "name": "python38164bit5b9cf439166647ee9724efe1d3b3f49f",
   "display_name": "Python 3.8.1 64-bit",
   "language": "python"
  }
 },
 "nbformat": 4,
 "nbformat_minor": 2,
 "cells": [
  {
   "cell_type": "code",
   "execution_count": 1,
   "metadata": {},
   "outputs": [],
   "source": [
    "import numpy as np\n",
    "import pandas as pd\n",
    "from sklearn.metrics import mean_absolute_error,r2_score,mean_squared_error, max_error\n",
    "from sklearn.preprocessing import StandardScaler\n",
    "\n",
    "from MLR import cost_function,gradient_descent,prediction\n",
    "\n",
    "%matplotlib inline"
   ]
  },
  {
   "cell_type": "code",
   "execution_count": 2,
   "metadata": {},
   "outputs": [
    {
     "output_type": "stream",
     "name": "stdout",
     "text": [
      "<class 'pandas.core.frame.DataFrame'>\nRangeIndex: 21613 entries, 0 to 21612\nData columns (total 18 columns):\n #   Column         Non-Null Count  Dtype  \n---  ------         --------------  -----  \n 0   price          21613 non-null  float64\n 1   bedrooms       21613 non-null  int64  \n 2   bathrooms      21613 non-null  float64\n 3   sqft_living    21613 non-null  int64  \n 4   sqft_lot       21613 non-null  int64  \n 5   floors         21613 non-null  float64\n 6   waterfront     21613 non-null  int64  \n 7   view           21613 non-null  int64  \n 8   condition      21613 non-null  int64  \n 9   grade          21613 non-null  int64  \n 10  sqft_above     21613 non-null  int64  \n 11  sqft_basement  21613 non-null  int64  \n 12  yr_built       21613 non-null  int64  \n 13  yr_renovated   21613 non-null  int64  \n 14  lat            21613 non-null  float64\n 15  long           21613 non-null  float64\n 16  sqft_living15  21613 non-null  int64  \n 17  sqft_lot15     21613 non-null  int64  \ndtypes: float64(5), int64(13)\nmemory usage: 3.0 MB\n"
     ]
    }
   ],
   "source": [
    "data = pd.read_csv('kc_house_data.csv')\n",
    "data=data.drop(['id','date','zipcode'],axis=1)\n",
    "data.info()"
   ]
  },
  {
   "cell_type": "code",
   "execution_count": 3,
   "metadata": {},
   "outputs": [],
   "source": [
    "y = data['price']\n",
    "X = data.drop(['price'],axis=1)"
   ]
  },
  {
   "cell_type": "code",
   "execution_count": 4,
   "metadata": {},
   "outputs": [],
   "source": [
    "sc = StandardScaler()\n",
    "X = sc.fit_transform(X)"
   ]
  },
  {
   "cell_type": "code",
   "execution_count": 5,
   "metadata": {},
   "outputs": [],
   "source": [
    "m =int(len(X)*0.80)\n",
    "f = 17\n",
    "X_train = X[:m,:f]\n",
    "X_train = np.c_[np.ones(len(X_train),dtype='int64'),X_train]\n",
    "y_train = y[:m]\n",
    "X_test = X[m:,:f]\n",
    "X_test = np.c_[np.ones(len(X_test),dtype='int64'),X_test]\n",
    "y_test = y[m:]"
   ]
  },
  {
   "cell_type": "code",
   "execution_count": 6,
   "metadata": {},
   "outputs": [],
   "source": [
    "B = np.zeros(X_train.shape[1])\n",
    "learning_rate = 0.01\n",
    "num_of_iterations = 2000\n",
    "MR= gradient_descent(X_train, y_train, B, learning_rate, num_of_iterations)"
   ]
  },
  {
   "cell_type": "code",
   "execution_count": 7,
   "metadata": {},
   "outputs": [],
   "source": [
    "y_prediction = prediction(X_test,MR)"
   ]
  },
  {
   "cell_type": "code",
   "execution_count": 8,
   "metadata": {},
   "outputs": [
    {
     "output_type": "execute_result",
     "data": {
      "text/plain": [
       "130945.36267882967"
      ]
     },
     "metadata": {},
     "execution_count": 8
    }
   ],
   "source": [
    "mean_absolute_error(y_test, y_prediction)"
   ]
  },
  {
   "cell_type": "code",
   "execution_count": 9,
   "metadata": {},
   "outputs": [
    {
     "output_type": "execute_result",
     "data": {
      "text/plain": [
       "0.6820114682763825"
      ]
     },
     "metadata": {},
     "execution_count": 9
    }
   ],
   "source": [
    "r2_score(y_test,y_prediction)"
   ]
  },
  {
   "cell_type": "code",
   "execution_count": 10,
   "metadata": {},
   "outputs": [
    {
     "output_type": "execute_result",
     "data": {
      "text/plain": [
       "43672281001.46646"
      ]
     },
     "metadata": {},
     "execution_count": 10
    }
   ],
   "source": [
    "mean_squared_error(y_test,y_prediction)"
   ]
  },
  {
   "cell_type": "code",
   "execution_count": 11,
   "metadata": {},
   "outputs": [
    {
     "output_type": "execute_result",
     "data": {
      "text/plain": [
       "2165559.1283070776"
      ]
     },
     "metadata": {},
     "execution_count": 11
    }
   ],
   "source": [
    "max_error(y_test,y_prediction)"
   ]
  }
 ]
}