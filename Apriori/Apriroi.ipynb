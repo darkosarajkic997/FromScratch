{
 "metadata": {
  "language_info": {
   "codemirror_mode": {
    "name": "ipython",
    "version": 3
   },
   "file_extension": ".py",
   "mimetype": "text/x-python",
   "name": "python",
   "nbconvert_exporter": "python",
   "pygments_lexer": "ipython3",
   "version": "3.8.1-final"
  },
  "orig_nbformat": 2,
  "kernelspec": {
   "name": "python38164bit5b9cf439166647ee9724efe1d3b3f49f",
   "display_name": "Python 3.8.1 64-bit",
   "language": "python"
  }
 },
 "nbformat": 4,
 "nbformat_minor": 2,
 "cells": [
  {
   "cell_type": "code",
   "execution_count": 1,
   "metadata": {},
   "outputs": [],
   "source": [
    "import pandas as pd\n",
    "import numpy as np \n",
    "from Apriori import Apriori"
   ]
  },
  {
   "cell_type": "code",
   "execution_count": 2,
   "metadata": {},
   "outputs": [],
   "source": [
    "data=pd.read_fwf('lenses.txt')\n",
    "data.drop(['1'],inplace=True,axis=1)\n",
    "data.columns=['age','spectacle','astigmatic','TPR','class']"
   ]
  },
  {
   "cell_type": "code",
   "execution_count": 3,
   "metadata": {},
   "outputs": [],
   "source": [
    "cl={\n",
    "    1:'hard_lenses',\n",
    "    2:'soft_lenses',\n",
    "    3:'no_lenses'\n",
    "}\n",
    "age={\n",
    "    1:'young',\n",
    "    2:'pre-presbyopic',\n",
    "    3:'presbyopic'\n",
    "}\n",
    "prescription={\n",
    "    1:'myope',\n",
    "    2:'hypermetrope'\n",
    "}\n",
    "TPR={\n",
    "    1:'reduced',\n",
    "    2:'normal'\n",
    "}\n",
    "astigmatic={\n",
    "    1:'no',\n",
    "    2:'yes'\n",
    "}"
   ]
  },
  {
   "cell_type": "code",
   "execution_count": 4,
   "metadata": {},
   "outputs": [
    {
     "output_type": "execute_result",
     "data": {
      "text/plain": [
       "               age     spectacle astigmatic      TPR        class\n",
       "0            young         myope         no   normal  soft_lenses\n",
       "1            young         myope        yes  reduced    no_lenses\n",
       "2            young         myope        yes   normal  hard_lenses\n",
       "3            young  hypermetrope         no  reduced    no_lenses\n",
       "4            young  hypermetrope         no   normal  soft_lenses\n",
       "5            young  hypermetrope        yes  reduced    no_lenses\n",
       "6            young  hypermetrope        yes   normal  hard_lenses\n",
       "7   pre-presbyopic         myope         no  reduced    no_lenses\n",
       "8   pre-presbyopic         myope         no   normal  soft_lenses\n",
       "9   pre-presbyopic         myope        yes  reduced    no_lenses\n",
       "10  pre-presbyopic         myope        yes   normal  hard_lenses\n",
       "11  pre-presbyopic  hypermetrope         no  reduced    no_lenses\n",
       "12  pre-presbyopic  hypermetrope         no   normal  soft_lenses\n",
       "13  pre-presbyopic  hypermetrope        yes  reduced    no_lenses\n",
       "14  pre-presbyopic  hypermetrope        yes   normal    no_lenses\n",
       "15      presbyopic         myope         no  reduced    no_lenses\n",
       "16      presbyopic         myope         no   normal    no_lenses\n",
       "17      presbyopic         myope        yes  reduced    no_lenses\n",
       "18      presbyopic         myope        yes   normal  hard_lenses\n",
       "19      presbyopic  hypermetrope         no  reduced    no_lenses\n",
       "20      presbyopic  hypermetrope         no   normal  soft_lenses\n",
       "21      presbyopic  hypermetrope        yes  reduced    no_lenses\n",
       "22      presbyopic  hypermetrope        yes   normal    no_lenses"
      ],
      "text/html": "<div>\n<style scoped>\n    .dataframe tbody tr th:only-of-type {\n        vertical-align: middle;\n    }\n\n    .dataframe tbody tr th {\n        vertical-align: top;\n    }\n\n    .dataframe thead th {\n        text-align: right;\n    }\n</style>\n<table border=\"1\" class=\"dataframe\">\n  <thead>\n    <tr style=\"text-align: right;\">\n      <th></th>\n      <th>age</th>\n      <th>spectacle</th>\n      <th>astigmatic</th>\n      <th>TPR</th>\n      <th>class</th>\n    </tr>\n  </thead>\n  <tbody>\n    <tr>\n      <th>0</th>\n      <td>young</td>\n      <td>myope</td>\n      <td>no</td>\n      <td>normal</td>\n      <td>soft_lenses</td>\n    </tr>\n    <tr>\n      <th>1</th>\n      <td>young</td>\n      <td>myope</td>\n      <td>yes</td>\n      <td>reduced</td>\n      <td>no_lenses</td>\n    </tr>\n    <tr>\n      <th>2</th>\n      <td>young</td>\n      <td>myope</td>\n      <td>yes</td>\n      <td>normal</td>\n      <td>hard_lenses</td>\n    </tr>\n    <tr>\n      <th>3</th>\n      <td>young</td>\n      <td>hypermetrope</td>\n      <td>no</td>\n      <td>reduced</td>\n      <td>no_lenses</td>\n    </tr>\n    <tr>\n      <th>4</th>\n      <td>young</td>\n      <td>hypermetrope</td>\n      <td>no</td>\n      <td>normal</td>\n      <td>soft_lenses</td>\n    </tr>\n    <tr>\n      <th>5</th>\n      <td>young</td>\n      <td>hypermetrope</td>\n      <td>yes</td>\n      <td>reduced</td>\n      <td>no_lenses</td>\n    </tr>\n    <tr>\n      <th>6</th>\n      <td>young</td>\n      <td>hypermetrope</td>\n      <td>yes</td>\n      <td>normal</td>\n      <td>hard_lenses</td>\n    </tr>\n    <tr>\n      <th>7</th>\n      <td>pre-presbyopic</td>\n      <td>myope</td>\n      <td>no</td>\n      <td>reduced</td>\n      <td>no_lenses</td>\n    </tr>\n    <tr>\n      <th>8</th>\n      <td>pre-presbyopic</td>\n      <td>myope</td>\n      <td>no</td>\n      <td>normal</td>\n      <td>soft_lenses</td>\n    </tr>\n    <tr>\n      <th>9</th>\n      <td>pre-presbyopic</td>\n      <td>myope</td>\n      <td>yes</td>\n      <td>reduced</td>\n      <td>no_lenses</td>\n    </tr>\n    <tr>\n      <th>10</th>\n      <td>pre-presbyopic</td>\n      <td>myope</td>\n      <td>yes</td>\n      <td>normal</td>\n      <td>hard_lenses</td>\n    </tr>\n    <tr>\n      <th>11</th>\n      <td>pre-presbyopic</td>\n      <td>hypermetrope</td>\n      <td>no</td>\n      <td>reduced</td>\n      <td>no_lenses</td>\n    </tr>\n    <tr>\n      <th>12</th>\n      <td>pre-presbyopic</td>\n      <td>hypermetrope</td>\n      <td>no</td>\n      <td>normal</td>\n      <td>soft_lenses</td>\n    </tr>\n    <tr>\n      <th>13</th>\n      <td>pre-presbyopic</td>\n      <td>hypermetrope</td>\n      <td>yes</td>\n      <td>reduced</td>\n      <td>no_lenses</td>\n    </tr>\n    <tr>\n      <th>14</th>\n      <td>pre-presbyopic</td>\n      <td>hypermetrope</td>\n      <td>yes</td>\n      <td>normal</td>\n      <td>no_lenses</td>\n    </tr>\n    <tr>\n      <th>15</th>\n      <td>presbyopic</td>\n      <td>myope</td>\n      <td>no</td>\n      <td>reduced</td>\n      <td>no_lenses</td>\n    </tr>\n    <tr>\n      <th>16</th>\n      <td>presbyopic</td>\n      <td>myope</td>\n      <td>no</td>\n      <td>normal</td>\n      <td>no_lenses</td>\n    </tr>\n    <tr>\n      <th>17</th>\n      <td>presbyopic</td>\n      <td>myope</td>\n      <td>yes</td>\n      <td>reduced</td>\n      <td>no_lenses</td>\n    </tr>\n    <tr>\n      <th>18</th>\n      <td>presbyopic</td>\n      <td>myope</td>\n      <td>yes</td>\n      <td>normal</td>\n      <td>hard_lenses</td>\n    </tr>\n    <tr>\n      <th>19</th>\n      <td>presbyopic</td>\n      <td>hypermetrope</td>\n      <td>no</td>\n      <td>reduced</td>\n      <td>no_lenses</td>\n    </tr>\n    <tr>\n      <th>20</th>\n      <td>presbyopic</td>\n      <td>hypermetrope</td>\n      <td>no</td>\n      <td>normal</td>\n      <td>soft_lenses</td>\n    </tr>\n    <tr>\n      <th>21</th>\n      <td>presbyopic</td>\n      <td>hypermetrope</td>\n      <td>yes</td>\n      <td>reduced</td>\n      <td>no_lenses</td>\n    </tr>\n    <tr>\n      <th>22</th>\n      <td>presbyopic</td>\n      <td>hypermetrope</td>\n      <td>yes</td>\n      <td>normal</td>\n      <td>no_lenses</td>\n    </tr>\n  </tbody>\n</table>\n</div>"
     },
     "metadata": {},
     "execution_count": 4
    }
   ],
   "source": [
    "data.replace({'age':age,'spectacle':prescription,'astigmatic':astigmatic,'TPR':TPR,'class':cl},inplace=True)\n",
    "data"
   ]
  },
  {
   "cell_type": "code",
   "execution_count": 5,
   "metadata": {},
   "outputs": [
    {
     "output_type": "execute_result",
     "data": {
      "text/plain": [
       "    age_pre-presbyopic  age_presbyopic  age_young  spectacle_hypermetrope  \\\n",
       "0                    0               0          1                       0   \n",
       "1                    0               0          1                       0   \n",
       "2                    0               0          1                       0   \n",
       "3                    0               0          1                       1   \n",
       "4                    0               0          1                       1   \n",
       "5                    0               0          1                       1   \n",
       "6                    0               0          1                       1   \n",
       "7                    1               0          0                       0   \n",
       "8                    1               0          0                       0   \n",
       "9                    1               0          0                       0   \n",
       "10                   1               0          0                       0   \n",
       "11                   1               0          0                       1   \n",
       "12                   1               0          0                       1   \n",
       "13                   1               0          0                       1   \n",
       "14                   1               0          0                       1   \n",
       "15                   0               1          0                       0   \n",
       "16                   0               1          0                       0   \n",
       "17                   0               1          0                       0   \n",
       "18                   0               1          0                       0   \n",
       "19                   0               1          0                       1   \n",
       "20                   0               1          0                       1   \n",
       "21                   0               1          0                       1   \n",
       "22                   0               1          0                       1   \n",
       "\n",
       "    spectacle_myope  astigmatic_no  astigmatic_yes  TPR_normal  TPR_reduced  \\\n",
       "0                 1              1               0           1            0   \n",
       "1                 1              0               1           0            1   \n",
       "2                 1              0               1           1            0   \n",
       "3                 0              1               0           0            1   \n",
       "4                 0              1               0           1            0   \n",
       "5                 0              0               1           0            1   \n",
       "6                 0              0               1           1            0   \n",
       "7                 1              1               0           0            1   \n",
       "8                 1              1               0           1            0   \n",
       "9                 1              0               1           0            1   \n",
       "10                1              0               1           1            0   \n",
       "11                0              1               0           0            1   \n",
       "12                0              1               0           1            0   \n",
       "13                0              0               1           0            1   \n",
       "14                0              0               1           1            0   \n",
       "15                1              1               0           0            1   \n",
       "16                1              1               0           1            0   \n",
       "17                1              0               1           0            1   \n",
       "18                1              0               1           1            0   \n",
       "19                0              1               0           0            1   \n",
       "20                0              1               0           1            0   \n",
       "21                0              0               1           0            1   \n",
       "22                0              0               1           1            0   \n",
       "\n",
       "    class_hard_lenses  class_no_lenses  class_soft_lenses  \n",
       "0                   0                0                  1  \n",
       "1                   0                1                  0  \n",
       "2                   1                0                  0  \n",
       "3                   0                1                  0  \n",
       "4                   0                0                  1  \n",
       "5                   0                1                  0  \n",
       "6                   1                0                  0  \n",
       "7                   0                1                  0  \n",
       "8                   0                0                  1  \n",
       "9                   0                1                  0  \n",
       "10                  1                0                  0  \n",
       "11                  0                1                  0  \n",
       "12                  0                0                  1  \n",
       "13                  0                1                  0  \n",
       "14                  0                1                  0  \n",
       "15                  0                1                  0  \n",
       "16                  0                1                  0  \n",
       "17                  0                1                  0  \n",
       "18                  1                0                  0  \n",
       "19                  0                1                  0  \n",
       "20                  0                0                  1  \n",
       "21                  0                1                  0  \n",
       "22                  0                1                  0  "
      ],
      "text/html": "<div>\n<style scoped>\n    .dataframe tbody tr th:only-of-type {\n        vertical-align: middle;\n    }\n\n    .dataframe tbody tr th {\n        vertical-align: top;\n    }\n\n    .dataframe thead th {\n        text-align: right;\n    }\n</style>\n<table border=\"1\" class=\"dataframe\">\n  <thead>\n    <tr style=\"text-align: right;\">\n      <th></th>\n      <th>age_pre-presbyopic</th>\n      <th>age_presbyopic</th>\n      <th>age_young</th>\n      <th>spectacle_hypermetrope</th>\n      <th>spectacle_myope</th>\n      <th>astigmatic_no</th>\n      <th>astigmatic_yes</th>\n      <th>TPR_normal</th>\n      <th>TPR_reduced</th>\n      <th>class_hard_lenses</th>\n      <th>class_no_lenses</th>\n      <th>class_soft_lenses</th>\n    </tr>\n  </thead>\n  <tbody>\n    <tr>\n      <th>0</th>\n      <td>0</td>\n      <td>0</td>\n      <td>1</td>\n      <td>0</td>\n      <td>1</td>\n      <td>1</td>\n      <td>0</td>\n      <td>1</td>\n      <td>0</td>\n      <td>0</td>\n      <td>0</td>\n      <td>1</td>\n    </tr>\n    <tr>\n      <th>1</th>\n      <td>0</td>\n      <td>0</td>\n      <td>1</td>\n      <td>0</td>\n      <td>1</td>\n      <td>0</td>\n      <td>1</td>\n      <td>0</td>\n      <td>1</td>\n      <td>0</td>\n      <td>1</td>\n      <td>0</td>\n    </tr>\n    <tr>\n      <th>2</th>\n      <td>0</td>\n      <td>0</td>\n      <td>1</td>\n      <td>0</td>\n      <td>1</td>\n      <td>0</td>\n      <td>1</td>\n      <td>1</td>\n      <td>0</td>\n      <td>1</td>\n      <td>0</td>\n      <td>0</td>\n    </tr>\n    <tr>\n      <th>3</th>\n      <td>0</td>\n      <td>0</td>\n      <td>1</td>\n      <td>1</td>\n      <td>0</td>\n      <td>1</td>\n      <td>0</td>\n      <td>0</td>\n      <td>1</td>\n      <td>0</td>\n      <td>1</td>\n      <td>0</td>\n    </tr>\n    <tr>\n      <th>4</th>\n      <td>0</td>\n      <td>0</td>\n      <td>1</td>\n      <td>1</td>\n      <td>0</td>\n      <td>1</td>\n      <td>0</td>\n      <td>1</td>\n      <td>0</td>\n      <td>0</td>\n      <td>0</td>\n      <td>1</td>\n    </tr>\n    <tr>\n      <th>5</th>\n      <td>0</td>\n      <td>0</td>\n      <td>1</td>\n      <td>1</td>\n      <td>0</td>\n      <td>0</td>\n      <td>1</td>\n      <td>0</td>\n      <td>1</td>\n      <td>0</td>\n      <td>1</td>\n      <td>0</td>\n    </tr>\n    <tr>\n      <th>6</th>\n      <td>0</td>\n      <td>0</td>\n      <td>1</td>\n      <td>1</td>\n      <td>0</td>\n      <td>0</td>\n      <td>1</td>\n      <td>1</td>\n      <td>0</td>\n      <td>1</td>\n      <td>0</td>\n      <td>0</td>\n    </tr>\n    <tr>\n      <th>7</th>\n      <td>1</td>\n      <td>0</td>\n      <td>0</td>\n      <td>0</td>\n      <td>1</td>\n      <td>1</td>\n      <td>0</td>\n      <td>0</td>\n      <td>1</td>\n      <td>0</td>\n      <td>1</td>\n      <td>0</td>\n    </tr>\n    <tr>\n      <th>8</th>\n      <td>1</td>\n      <td>0</td>\n      <td>0</td>\n      <td>0</td>\n      <td>1</td>\n      <td>1</td>\n      <td>0</td>\n      <td>1</td>\n      <td>0</td>\n      <td>0</td>\n      <td>0</td>\n      <td>1</td>\n    </tr>\n    <tr>\n      <th>9</th>\n      <td>1</td>\n      <td>0</td>\n      <td>0</td>\n      <td>0</td>\n      <td>1</td>\n      <td>0</td>\n      <td>1</td>\n      <td>0</td>\n      <td>1</td>\n      <td>0</td>\n      <td>1</td>\n      <td>0</td>\n    </tr>\n    <tr>\n      <th>10</th>\n      <td>1</td>\n      <td>0</td>\n      <td>0</td>\n      <td>0</td>\n      <td>1</td>\n      <td>0</td>\n      <td>1</td>\n      <td>1</td>\n      <td>0</td>\n      <td>1</td>\n      <td>0</td>\n      <td>0</td>\n    </tr>\n    <tr>\n      <th>11</th>\n      <td>1</td>\n      <td>0</td>\n      <td>0</td>\n      <td>1</td>\n      <td>0</td>\n      <td>1</td>\n      <td>0</td>\n      <td>0</td>\n      <td>1</td>\n      <td>0</td>\n      <td>1</td>\n      <td>0</td>\n    </tr>\n    <tr>\n      <th>12</th>\n      <td>1</td>\n      <td>0</td>\n      <td>0</td>\n      <td>1</td>\n      <td>0</td>\n      <td>1</td>\n      <td>0</td>\n      <td>1</td>\n      <td>0</td>\n      <td>0</td>\n      <td>0</td>\n      <td>1</td>\n    </tr>\n    <tr>\n      <th>13</th>\n      <td>1</td>\n      <td>0</td>\n      <td>0</td>\n      <td>1</td>\n      <td>0</td>\n      <td>0</td>\n      <td>1</td>\n      <td>0</td>\n      <td>1</td>\n      <td>0</td>\n      <td>1</td>\n      <td>0</td>\n    </tr>\n    <tr>\n      <th>14</th>\n      <td>1</td>\n      <td>0</td>\n      <td>0</td>\n      <td>1</td>\n      <td>0</td>\n      <td>0</td>\n      <td>1</td>\n      <td>1</td>\n      <td>0</td>\n      <td>0</td>\n      <td>1</td>\n      <td>0</td>\n    </tr>\n    <tr>\n      <th>15</th>\n      <td>0</td>\n      <td>1</td>\n      <td>0</td>\n      <td>0</td>\n      <td>1</td>\n      <td>1</td>\n      <td>0</td>\n      <td>0</td>\n      <td>1</td>\n      <td>0</td>\n      <td>1</td>\n      <td>0</td>\n    </tr>\n    <tr>\n      <th>16</th>\n      <td>0</td>\n      <td>1</td>\n      <td>0</td>\n      <td>0</td>\n      <td>1</td>\n      <td>1</td>\n      <td>0</td>\n      <td>1</td>\n      <td>0</td>\n      <td>0</td>\n      <td>1</td>\n      <td>0</td>\n    </tr>\n    <tr>\n      <th>17</th>\n      <td>0</td>\n      <td>1</td>\n      <td>0</td>\n      <td>0</td>\n      <td>1</td>\n      <td>0</td>\n      <td>1</td>\n      <td>0</td>\n      <td>1</td>\n      <td>0</td>\n      <td>1</td>\n      <td>0</td>\n    </tr>\n    <tr>\n      <th>18</th>\n      <td>0</td>\n      <td>1</td>\n      <td>0</td>\n      <td>0</td>\n      <td>1</td>\n      <td>0</td>\n      <td>1</td>\n      <td>1</td>\n      <td>0</td>\n      <td>1</td>\n      <td>0</td>\n      <td>0</td>\n    </tr>\n    <tr>\n      <th>19</th>\n      <td>0</td>\n      <td>1</td>\n      <td>0</td>\n      <td>1</td>\n      <td>0</td>\n      <td>1</td>\n      <td>0</td>\n      <td>0</td>\n      <td>1</td>\n      <td>0</td>\n      <td>1</td>\n      <td>0</td>\n    </tr>\n    <tr>\n      <th>20</th>\n      <td>0</td>\n      <td>1</td>\n      <td>0</td>\n      <td>1</td>\n      <td>0</td>\n      <td>1</td>\n      <td>0</td>\n      <td>1</td>\n      <td>0</td>\n      <td>0</td>\n      <td>0</td>\n      <td>1</td>\n    </tr>\n    <tr>\n      <th>21</th>\n      <td>0</td>\n      <td>1</td>\n      <td>0</td>\n      <td>1</td>\n      <td>0</td>\n      <td>0</td>\n      <td>1</td>\n      <td>0</td>\n      <td>1</td>\n      <td>0</td>\n      <td>1</td>\n      <td>0</td>\n    </tr>\n    <tr>\n      <th>22</th>\n      <td>0</td>\n      <td>1</td>\n      <td>0</td>\n      <td>1</td>\n      <td>0</td>\n      <td>0</td>\n      <td>1</td>\n      <td>1</td>\n      <td>0</td>\n      <td>0</td>\n      <td>1</td>\n      <td>0</td>\n    </tr>\n  </tbody>\n</table>\n</div>"
     },
     "metadata": {},
     "execution_count": 5
    }
   ],
   "source": [
    "data=pd.get_dummies(data)\n",
    "data"
   ]
  },
  {
   "cell_type": "code",
   "execution_count": 6,
   "metadata": {},
   "outputs": [],
   "source": [
    "ap=Apriori()"
   ]
  },
  {
   "cell_type": "code",
   "execution_count": 19,
   "metadata": {},
   "outputs": [
    {
     "output_type": "execute_result",
     "data": {
      "text/plain": [
       "                                        Items   Support\n",
       "9                          (class_no_lenses,)  0.608696\n",
       "3                   (spectacle_hypermetrope,)  0.521739\n",
       "5                               (TPR_normal,)  0.521739\n",
       "6                           (astigmatic_yes,)  0.521739\n",
       "1                            (astigmatic_no,)  0.478261\n",
       "7                          (spectacle_myope,)  0.478261\n",
       "8                              (TPR_reduced,)  0.478261\n",
       "10             (TPR_reduced, class_no_lenses)  0.478261\n",
       "2                           (age_presbyopic,)  0.347826\n",
       "4                       (age_pre-presbyopic,)  0.347826\n",
       "11          (astigmatic_yes, class_no_lenses)  0.347826\n",
       "12  (spectacle_hypermetrope, class_no_lenses)  0.347826\n",
       "0                                (age_young,)  0.304348"
      ],
      "text/html": "<div>\n<style scoped>\n    .dataframe tbody tr th:only-of-type {\n        vertical-align: middle;\n    }\n\n    .dataframe tbody tr th {\n        vertical-align: top;\n    }\n\n    .dataframe thead th {\n        text-align: right;\n    }\n</style>\n<table border=\"1\" class=\"dataframe\">\n  <thead>\n    <tr style=\"text-align: right;\">\n      <th></th>\n      <th>Items</th>\n      <th>Support</th>\n    </tr>\n  </thead>\n  <tbody>\n    <tr>\n      <th>9</th>\n      <td>(class_no_lenses,)</td>\n      <td>0.608696</td>\n    </tr>\n    <tr>\n      <th>3</th>\n      <td>(spectacle_hypermetrope,)</td>\n      <td>0.521739</td>\n    </tr>\n    <tr>\n      <th>5</th>\n      <td>(TPR_normal,)</td>\n      <td>0.521739</td>\n    </tr>\n    <tr>\n      <th>6</th>\n      <td>(astigmatic_yes,)</td>\n      <td>0.521739</td>\n    </tr>\n    <tr>\n      <th>1</th>\n      <td>(astigmatic_no,)</td>\n      <td>0.478261</td>\n    </tr>\n    <tr>\n      <th>7</th>\n      <td>(spectacle_myope,)</td>\n      <td>0.478261</td>\n    </tr>\n    <tr>\n      <th>8</th>\n      <td>(TPR_reduced,)</td>\n      <td>0.478261</td>\n    </tr>\n    <tr>\n      <th>10</th>\n      <td>(TPR_reduced, class_no_lenses)</td>\n      <td>0.478261</td>\n    </tr>\n    <tr>\n      <th>2</th>\n      <td>(age_presbyopic,)</td>\n      <td>0.347826</td>\n    </tr>\n    <tr>\n      <th>4</th>\n      <td>(age_pre-presbyopic,)</td>\n      <td>0.347826</td>\n    </tr>\n    <tr>\n      <th>11</th>\n      <td>(astigmatic_yes, class_no_lenses)</td>\n      <td>0.347826</td>\n    </tr>\n    <tr>\n      <th>12</th>\n      <td>(spectacle_hypermetrope, class_no_lenses)</td>\n      <td>0.347826</td>\n    </tr>\n    <tr>\n      <th>0</th>\n      <td>(age_young,)</td>\n      <td>0.304348</td>\n    </tr>\n  </tbody>\n</table>\n</div>"
     },
     "metadata": {},
     "execution_count": 19
    }
   ],
   "source": [
    "my_freq_itemset = ap.find_support(data, 0.3, 5)\n",
    "my_freq_itemset.sort_values(by = 'Support', ascending = False)"
   ]
  },
  {
   "cell_type": "code",
   "execution_count": 20,
   "metadata": {},
   "outputs": [
    {
     "output_type": "execute_result",
     "data": {
      "text/plain": [
       "                         ANT                     CONSEQ  ANT support  \\\n",
       "2             (TPR_reduced,)         (class_no_lenses,)     0.478261   \n",
       "3         (class_no_lenses,)             (TPR_reduced,)     0.608696   \n",
       "0  (spectacle_hypermetrope,)         (class_no_lenses,)     0.521739   \n",
       "1          (astigmatic_yes,)         (class_no_lenses,)     0.521739   \n",
       "4         (class_no_lenses,)          (astigmatic_yes,)     0.608696   \n",
       "5         (class_no_lenses,)  (spectacle_hypermetrope,)     0.608696   \n",
       "\n",
       "   CONSEQ support   support  confidence      lift  \n",
       "2        0.608696  0.478261    1.000000  1.642857  \n",
       "3        0.478261  0.478261    0.785714  1.642857  \n",
       "0        0.608696  0.347826    0.666667  1.095238  \n",
       "1        0.608696  0.347826    0.666667  1.095238  \n",
       "4        0.521739  0.347826    0.571429  1.095238  \n",
       "5        0.521739  0.347826    0.571429  1.095238  "
      ],
      "text/html": "<div>\n<style scoped>\n    .dataframe tbody tr th:only-of-type {\n        vertical-align: middle;\n    }\n\n    .dataframe tbody tr th {\n        vertical-align: top;\n    }\n\n    .dataframe thead th {\n        text-align: right;\n    }\n</style>\n<table border=\"1\" class=\"dataframe\">\n  <thead>\n    <tr style=\"text-align: right;\">\n      <th></th>\n      <th>ANT</th>\n      <th>CONSEQ</th>\n      <th>ANT support</th>\n      <th>CONSEQ support</th>\n      <th>support</th>\n      <th>confidence</th>\n      <th>lift</th>\n    </tr>\n  </thead>\n  <tbody>\n    <tr>\n      <th>2</th>\n      <td>(TPR_reduced,)</td>\n      <td>(class_no_lenses,)</td>\n      <td>0.478261</td>\n      <td>0.608696</td>\n      <td>0.478261</td>\n      <td>1.000000</td>\n      <td>1.642857</td>\n    </tr>\n    <tr>\n      <th>3</th>\n      <td>(class_no_lenses,)</td>\n      <td>(TPR_reduced,)</td>\n      <td>0.608696</td>\n      <td>0.478261</td>\n      <td>0.478261</td>\n      <td>0.785714</td>\n      <td>1.642857</td>\n    </tr>\n    <tr>\n      <th>0</th>\n      <td>(spectacle_hypermetrope,)</td>\n      <td>(class_no_lenses,)</td>\n      <td>0.521739</td>\n      <td>0.608696</td>\n      <td>0.347826</td>\n      <td>0.666667</td>\n      <td>1.095238</td>\n    </tr>\n    <tr>\n      <th>1</th>\n      <td>(astigmatic_yes,)</td>\n      <td>(class_no_lenses,)</td>\n      <td>0.521739</td>\n      <td>0.608696</td>\n      <td>0.347826</td>\n      <td>0.666667</td>\n      <td>1.095238</td>\n    </tr>\n    <tr>\n      <th>4</th>\n      <td>(class_no_lenses,)</td>\n      <td>(astigmatic_yes,)</td>\n      <td>0.608696</td>\n      <td>0.521739</td>\n      <td>0.347826</td>\n      <td>0.571429</td>\n      <td>1.095238</td>\n    </tr>\n    <tr>\n      <th>5</th>\n      <td>(class_no_lenses,)</td>\n      <td>(spectacle_hypermetrope,)</td>\n      <td>0.608696</td>\n      <td>0.521739</td>\n      <td>0.347826</td>\n      <td>0.571429</td>\n      <td>1.095238</td>\n    </tr>\n  </tbody>\n</table>\n</div>"
     },
     "metadata": {},
     "execution_count": 20
    }
   ],
   "source": [
    "my_rule = ap.find_rules(my_freq_itemset, 0.4)\n",
    "my_rule.sort_values(by='confidence', ascending= False)"
   ]
  },
  {
   "cell_type": "code",
   "execution_count": null,
   "metadata": {},
   "outputs": [],
   "source": []
  }
 ]
}